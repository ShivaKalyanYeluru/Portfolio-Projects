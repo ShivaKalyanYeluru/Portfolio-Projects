{
 "cells": [
  {
   "cell_type": "markdown",
   "id": "c94a836e",
   "metadata": {},
   "source": [
    "# IMDB Top 50 Popular Movies by Genre"
   ]
  },
  {
   "cell_type": "markdown",
   "id": "fb100226",
   "metadata": {},
   "source": [
    "## Introduction"
   ]
  },
  {
   "cell_type": "markdown",
   "id": "69c1f7cb",
   "metadata": {},
   "source": [
    "IMDB (an abbreviation of Internet Movie Database) is an online database of information related to films, television series, home videos, video games, and streaming content online – including cast, production crew and personal biographies, plot summaries, trivia, ratings, and fan and critical reviews. IMDb began as a fan-operated movie database in 1990, and moved to the Web in 1993. It is now owned and operated by IMDb.com, Inc., a subsidiary of Amazon. As of March 2022, the database contained some 10.1 million titles (including television episodes).\n",
    "\n"
   ]
  },
  {
   "cell_type": "markdown",
   "id": "fbdae533",
   "metadata": {},
   "source": [
    "In this project I would like to extract the data of top 50 popular movies by genre from IMDB website using Web Scraping techniques, Python and it's libraries."
   ]
  },
  {
   "cell_type": "markdown",
   "id": "0e207621",
   "metadata": {},
   "source": [
    "## Steps "
   ]
  },
  {
   "cell_type": "markdown",
   "id": "2d4329c0",
   "metadata": {},
   "source": [
    "- Scrape the IMDB website and extract the list of all the movie genres and the URL to their top 50 popular movies\n",
    "- Scrape each genre URL to obtain the data of the top 50 popular movies\n",
    "- Extract the details like Movie Title, Description, Rating, Cast, etc.\n",
    "- Create a csv file containing the data"
   ]
  },
  {
   "cell_type": "markdown",
   "id": "a3c12e6f",
   "metadata": {},
   "source": [
    "## Import all the required libraries"
   ]
  },
  {
   "cell_type": "code",
   "execution_count": 1,
   "id": "438de91b",
   "metadata": {},
   "outputs": [],
   "source": [
    "import requests\n",
    "from bs4 import BeautifulSoup\n",
    "import pandas as pd\n",
    "import numpy as np\n",
    "import re"
   ]
  },
  {
   "cell_type": "markdown",
   "id": "266554f9",
   "metadata": {},
   "source": [
    "## Scrape IMDB website "
   ]
  },
  {
   "cell_type": "markdown",
   "id": "cf59fe96",
   "metadata": {},
   "source": [
    "Copy the link to movies genres from the IMDB website and store it in a variable"
   ]
  },
  {
   "cell_type": "code",
   "execution_count": 2,
   "id": "b0a4cda4",
   "metadata": {},
   "outputs": [],
   "source": [
    "imdb = 'https://www.imdb.com/feature/genre'"
   ]
  },
  {
   "cell_type": "markdown",
   "id": "8f2ba6a5",
   "metadata": {},
   "source": [
    "Use requests library to obtain the response from the web page"
   ]
  },
  {
   "cell_type": "code",
   "execution_count": 3,
   "id": "6a91e5b6",
   "metadata": {},
   "outputs": [
    {
     "data": {
      "text/plain": [
       "200"
      ]
     },
     "execution_count": 3,
     "metadata": {},
     "output_type": "execute_result"
    }
   ],
   "source": [
    "response = requests.get(imdb)\n",
    "response.status_code"
   ]
  },
  {
   "cell_type": "markdown",
   "id": "6f350a61",
   "metadata": {},
   "source": [
    "Check for the page contents"
   ]
  },
  {
   "cell_type": "code",
   "execution_count": 4,
   "id": "36f15c76",
   "metadata": {},
   "outputs": [
    {
     "data": {
      "text/plain": [
       "'\\n\\n\\n<!DOCTYPE html>\\n<html\\n    xmlns:og=\"http://ogp.me/ns#\"\\n    xmlns:fb=\"http://www.facebook.com/2008/fbml\">\\n    <head>\\n         \\n\\n        <meta charset=\"utf-8\">\\n\\n    \\n    \\n    \\n\\n    \\n    \\n    \\n\\n            <style>\\n                body#styleguide-v2 {\\n                    background: no-repeat fixed center top #000;\\n                }\\n            </style>\\n\\n\\n\\n        <script type=\"text/javascript\">var IMDbTimer={starttime: new Date().getTime(),pt:\\'java\\'};</script>\\n\\n<script>\\n    if (typeof uet == \\'function\\') {\\n      uet(\"bb\", \"LoadTitle\", {wb: 1});\\n    }\\n</script>\\n  <script>(function(t){ (t.events = t.events || {})[\"csm_head_pre_title\"] = new Date().getTime(); })(IMDbTimer);</script>\\n        <title>Browse Movies and TV by Genre - IMDb</title>\\n  <script>(function(t){ (t.events = t.events || {})[\"csm_head_post_title\"] = new Date().getTime(); })(IMDbTimer);</script>\\n<script>\\n    if (typeof uet == \\'function\\') {\\n      uet(\"be\", \"LoadTitle\", {wb: 1});\\n    }\\n</script>\\n<script>\\n    if (typeof uex ='"
      ]
     },
     "execution_count": 4,
     "metadata": {},
     "output_type": "execute_result"
    }
   ],
   "source": [
    "response.text[:1000]"
   ]
  },
  {
   "cell_type": "code",
   "execution_count": 5,
   "id": "44e19e5b",
   "metadata": {},
   "outputs": [],
   "source": [
    "page_contents = response.text"
   ]
  },
  {
   "cell_type": "markdown",
   "id": "891df7cb",
   "metadata": {},
   "source": [
    "Create a html file with the page contents"
   ]
  },
  {
   "cell_type": "code",
   "execution_count": 6,
   "id": "fc5d7f3c",
   "metadata": {},
   "outputs": [],
   "source": [
    "with open('imdb.html','w',encoding='utf-8') as f:\n",
    "    f.write(page_contents)"
   ]
  },
  {
   "cell_type": "markdown",
   "id": "20e51741",
   "metadata": {},
   "source": [
    "## Get Movies Genres "
   ]
  },
  {
   "cell_type": "markdown",
   "id": "ca1756e2",
   "metadata": {},
   "source": [
    "Use beautiful soup library to extract the data from contents of the response"
   ]
  },
  {
   "cell_type": "code",
   "execution_count": 7,
   "id": "337259f4",
   "metadata": {},
   "outputs": [],
   "source": [
    "data = BeautifulSoup(page_contents,'html.parser')"
   ]
  },
  {
   "cell_type": "markdown",
   "id": "0d4316df",
   "metadata": {},
   "source": [
    "Get the class name or any unique details by inspecting the web page"
   ]
  },
  {
   "cell_type": "code",
   "execution_count": 8,
   "id": "76b4842b",
   "metadata": {},
   "outputs": [],
   "source": [
    "genre_class = 'table-cell primary'"
   ]
  },
  {
   "cell_type": "markdown",
   "id": "61636294",
   "metadata": {},
   "source": [
    "Extract the tags associated with the class using find all function. Only the first 24 tags are related to movies"
   ]
  },
  {
   "cell_type": "code",
   "execution_count": 9,
   "id": "5176576c",
   "metadata": {},
   "outputs": [],
   "source": [
    "genre_tags = data.find_all('div', {'class': genre_class})[:24]"
   ]
  },
  {
   "cell_type": "markdown",
   "id": "d2c0b741",
   "metadata": {},
   "source": [
    "Define a function to get the data of the genres"
   ]
  },
  {
   "cell_type": "code",
   "execution_count": 10,
   "id": "15237658",
   "metadata": {},
   "outputs": [],
   "source": [
    "def get_genres_data(genre_tags):\n",
    "    \n",
    "    genres = []\n",
    "    genre_urls = []\n",
    "    base_url = 'https://www.imdb.com'\n",
    "    \n",
    "    for genre in genre_tags:\n",
    "        \n",
    "        genres.append(genre.find('a').text.strip())\n",
    "        genre_urls.append(base_url + genre.find('a')['href'])\n",
    "        \n",
    "    return pd.DataFrame({'Genre':genres,'URL':genre_urls})"
   ]
  },
  {
   "cell_type": "code",
   "execution_count": 11,
   "id": "0d59d168",
   "metadata": {},
   "outputs": [],
   "source": [
    "genre_df = get_genres_data(genre_tags)"
   ]
  },
  {
   "cell_type": "code",
   "execution_count": 12,
   "id": "c709a1aa",
   "metadata": {},
   "outputs": [
    {
     "data": {
      "text/html": [
       "<div>\n",
       "<style scoped>\n",
       "    .dataframe tbody tr th:only-of-type {\n",
       "        vertical-align: middle;\n",
       "    }\n",
       "\n",
       "    .dataframe tbody tr th {\n",
       "        vertical-align: top;\n",
       "    }\n",
       "\n",
       "    .dataframe thead th {\n",
       "        text-align: right;\n",
       "    }\n",
       "</style>\n",
       "<table border=\"1\" class=\"dataframe\">\n",
       "  <thead>\n",
       "    <tr style=\"text-align: right;\">\n",
       "      <th></th>\n",
       "      <th>Genre</th>\n",
       "      <th>URL</th>\n",
       "    </tr>\n",
       "  </thead>\n",
       "  <tbody>\n",
       "    <tr>\n",
       "      <th>0</th>\n",
       "      <td>Action</td>\n",
       "      <td>https://www.imdb.com/search/title?genres=actio...</td>\n",
       "    </tr>\n",
       "    <tr>\n",
       "      <th>1</th>\n",
       "      <td>Adventure</td>\n",
       "      <td>https://www.imdb.com/search/title?genres=adven...</td>\n",
       "    </tr>\n",
       "    <tr>\n",
       "      <th>2</th>\n",
       "      <td>Animation</td>\n",
       "      <td>https://www.imdb.com/search/title?genres=anima...</td>\n",
       "    </tr>\n",
       "    <tr>\n",
       "      <th>3</th>\n",
       "      <td>Biography</td>\n",
       "      <td>https://www.imdb.com/search/title?genres=biogr...</td>\n",
       "    </tr>\n",
       "    <tr>\n",
       "      <th>4</th>\n",
       "      <td>Comedy</td>\n",
       "      <td>https://www.imdb.com/search/title?genres=comed...</td>\n",
       "    </tr>\n",
       "    <tr>\n",
       "      <th>5</th>\n",
       "      <td>Crime</td>\n",
       "      <td>https://www.imdb.com/search/title?genres=crime...</td>\n",
       "    </tr>\n",
       "    <tr>\n",
       "      <th>6</th>\n",
       "      <td>Documentary</td>\n",
       "      <td>https://www.imdb.com/search/title?genres=docum...</td>\n",
       "    </tr>\n",
       "    <tr>\n",
       "      <th>7</th>\n",
       "      <td>Drama</td>\n",
       "      <td>https://www.imdb.com/search/title?genres=drama...</td>\n",
       "    </tr>\n",
       "    <tr>\n",
       "      <th>8</th>\n",
       "      <td>Family</td>\n",
       "      <td>https://www.imdb.com/search/title?genres=famil...</td>\n",
       "    </tr>\n",
       "    <tr>\n",
       "      <th>9</th>\n",
       "      <td>Fantasy</td>\n",
       "      <td>https://www.imdb.com/search/title?genres=fanta...</td>\n",
       "    </tr>\n",
       "    <tr>\n",
       "      <th>10</th>\n",
       "      <td>Film Noir</td>\n",
       "      <td>https://www.imdb.com/search/title?genres=film-...</td>\n",
       "    </tr>\n",
       "    <tr>\n",
       "      <th>11</th>\n",
       "      <td>History</td>\n",
       "      <td>https://www.imdb.com/search/title?genres=histo...</td>\n",
       "    </tr>\n",
       "    <tr>\n",
       "      <th>12</th>\n",
       "      <td>Horror</td>\n",
       "      <td>https://www.imdb.com/search/title?genres=horro...</td>\n",
       "    </tr>\n",
       "    <tr>\n",
       "      <th>13</th>\n",
       "      <td>Music</td>\n",
       "      <td>https://www.imdb.com/search/title?genres=music...</td>\n",
       "    </tr>\n",
       "    <tr>\n",
       "      <th>14</th>\n",
       "      <td>Musical</td>\n",
       "      <td>https://www.imdb.com/search/title?genres=music...</td>\n",
       "    </tr>\n",
       "    <tr>\n",
       "      <th>15</th>\n",
       "      <td>Mystery</td>\n",
       "      <td>https://www.imdb.com/search/title?genres=myste...</td>\n",
       "    </tr>\n",
       "    <tr>\n",
       "      <th>16</th>\n",
       "      <td>Romance</td>\n",
       "      <td>https://www.imdb.com/search/title?genres=roman...</td>\n",
       "    </tr>\n",
       "    <tr>\n",
       "      <th>17</th>\n",
       "      <td>Sci-Fi</td>\n",
       "      <td>https://www.imdb.com/search/title?genres=sci-f...</td>\n",
       "    </tr>\n",
       "    <tr>\n",
       "      <th>18</th>\n",
       "      <td>Short Film</td>\n",
       "      <td>https://www.imdb.com/search/title?genres=short...</td>\n",
       "    </tr>\n",
       "    <tr>\n",
       "      <th>19</th>\n",
       "      <td>Sport</td>\n",
       "      <td>https://www.imdb.com/search/title?genres=sport...</td>\n",
       "    </tr>\n",
       "    <tr>\n",
       "      <th>20</th>\n",
       "      <td>Superhero</td>\n",
       "      <td>https://www.imdb.com/search/keyword?keywords=s...</td>\n",
       "    </tr>\n",
       "    <tr>\n",
       "      <th>21</th>\n",
       "      <td>Thriller</td>\n",
       "      <td>https://www.imdb.com/search/title?genres=thril...</td>\n",
       "    </tr>\n",
       "    <tr>\n",
       "      <th>22</th>\n",
       "      <td>War</td>\n",
       "      <td>https://www.imdb.com/search/title?genres=war&amp;t...</td>\n",
       "    </tr>\n",
       "    <tr>\n",
       "      <th>23</th>\n",
       "      <td>Western</td>\n",
       "      <td>https://www.imdb.com/search/title?genres=weste...</td>\n",
       "    </tr>\n",
       "  </tbody>\n",
       "</table>\n",
       "</div>"
      ],
      "text/plain": [
       "          Genre                                                URL\n",
       "0        Action  https://www.imdb.com/search/title?genres=actio...\n",
       "1     Adventure  https://www.imdb.com/search/title?genres=adven...\n",
       "2     Animation  https://www.imdb.com/search/title?genres=anima...\n",
       "3     Biography  https://www.imdb.com/search/title?genres=biogr...\n",
       "4        Comedy  https://www.imdb.com/search/title?genres=comed...\n",
       "5         Crime  https://www.imdb.com/search/title?genres=crime...\n",
       "6   Documentary  https://www.imdb.com/search/title?genres=docum...\n",
       "7         Drama  https://www.imdb.com/search/title?genres=drama...\n",
       "8        Family  https://www.imdb.com/search/title?genres=famil...\n",
       "9       Fantasy  https://www.imdb.com/search/title?genres=fanta...\n",
       "10    Film Noir  https://www.imdb.com/search/title?genres=film-...\n",
       "11      History  https://www.imdb.com/search/title?genres=histo...\n",
       "12       Horror  https://www.imdb.com/search/title?genres=horro...\n",
       "13        Music  https://www.imdb.com/search/title?genres=music...\n",
       "14      Musical  https://www.imdb.com/search/title?genres=music...\n",
       "15      Mystery  https://www.imdb.com/search/title?genres=myste...\n",
       "16      Romance  https://www.imdb.com/search/title?genres=roman...\n",
       "17       Sci-Fi  https://www.imdb.com/search/title?genres=sci-f...\n",
       "18   Short Film  https://www.imdb.com/search/title?genres=short...\n",
       "19        Sport  https://www.imdb.com/search/title?genres=sport...\n",
       "20    Superhero  https://www.imdb.com/search/keyword?keywords=s...\n",
       "21     Thriller  https://www.imdb.com/search/title?genres=thril...\n",
       "22          War  https://www.imdb.com/search/title?genres=war&t...\n",
       "23      Western  https://www.imdb.com/search/title?genres=weste..."
      ]
     },
     "execution_count": 12,
     "metadata": {},
     "output_type": "execute_result"
    }
   ],
   "source": [
    "genre_df"
   ]
  },
  {
   "cell_type": "markdown",
   "id": "22e5e79f",
   "metadata": {},
   "source": [
    "## Extract Movies data"
   ]
  },
  {
   "cell_type": "markdown",
   "id": "87ffabe0",
   "metadata": {},
   "source": [
    "From the obtained URLs, extract top 50 popular movies data by scraping each URL"
   ]
  },
  {
   "cell_type": "markdown",
   "id": "b2dae060",
   "metadata": {},
   "source": [
    " ### Obtain data for the first genre to understand the pattern"
   ]
  },
  {
   "cell_type": "code",
   "execution_count": 13,
   "id": "c8a9fb3a",
   "metadata": {},
   "outputs": [],
   "source": [
    "genre_url = genre_df['URL'][0]"
   ]
  },
  {
   "cell_type": "markdown",
   "id": "5817a8bf",
   "metadata": {},
   "source": [
    "Get response using requests for the url"
   ]
  },
  {
   "cell_type": "code",
   "execution_count": 14,
   "id": "941b4dbc",
   "metadata": {},
   "outputs": [
    {
     "data": {
      "text/plain": [
       "200"
      ]
     },
     "execution_count": 14,
     "metadata": {},
     "output_type": "execute_result"
    }
   ],
   "source": [
    "response = requests.get(genre_url)\n",
    "response.status_code"
   ]
  },
  {
   "cell_type": "markdown",
   "id": "5e7cf6fa",
   "metadata": {},
   "source": [
    "Parse the response contents using Beautiful Soup "
   ]
  },
  {
   "cell_type": "code",
   "execution_count": 15,
   "id": "3d46738b",
   "metadata": {},
   "outputs": [],
   "source": [
    "data = BeautifulSoup(response.text,'html.parser')"
   ]
  },
  {
   "cell_type": "markdown",
   "id": "a5c98812",
   "metadata": {},
   "source": [
    "Get the unique identifier (tags or classes or both) for the movies data from the obtained web page"
   ]
  },
  {
   "cell_type": "code",
   "execution_count": 16,
   "id": "b15466c3",
   "metadata": {},
   "outputs": [],
   "source": [
    "movie_class = 'lister-item-content'"
   ]
  },
  {
   "cell_type": "code",
   "execution_count": 17,
   "id": "59351f02",
   "metadata": {},
   "outputs": [
    {
     "data": {
      "text/plain": [
       "50"
      ]
     },
     "execution_count": 17,
     "metadata": {},
     "output_type": "execute_result"
    }
   ],
   "source": [
    "movies_tags = data.find_all('div', {'class': movie_class})\n",
    "len(movies_tags)"
   ]
  },
  {
   "cell_type": "markdown",
   "id": "c7968bf4",
   "metadata": {},
   "source": [
    "Get all the details for one movie by identfying unique tags/classes"
   ]
  },
  {
   "cell_type": "code",
   "execution_count": 18,
   "id": "d807198e",
   "metadata": {},
   "outputs": [],
   "source": [
    "movie = movies_tags[0]"
   ]
  },
  {
   "cell_type": "markdown",
   "id": "5f82fc7a",
   "metadata": {},
   "source": [
    "Title"
   ]
  },
  {
   "cell_type": "code",
   "execution_count": 19,
   "id": "0cac67e0",
   "metadata": {},
   "outputs": [
    {
     "data": {
      "text/plain": [
       "'Prey'"
      ]
     },
     "execution_count": 19,
     "metadata": {},
     "output_type": "execute_result"
    }
   ],
   "source": [
    "movie.find('a').text"
   ]
  },
  {
   "cell_type": "markdown",
   "id": "0585d257",
   "metadata": {},
   "source": [
    "Adult rating"
   ]
  },
  {
   "cell_type": "code",
   "execution_count": 20,
   "id": "579b6a62",
   "metadata": {},
   "outputs": [
    {
     "data": {
      "text/plain": [
       "'R'"
      ]
     },
     "execution_count": 20,
     "metadata": {},
     "output_type": "execute_result"
    }
   ],
   "source": [
    "movie.find('span',{'class':\"certificate\"}).text"
   ]
  },
  {
   "cell_type": "markdown",
   "id": "b4f2d4e9",
   "metadata": {},
   "source": [
    "Year Released"
   ]
  },
  {
   "cell_type": "code",
   "execution_count": 21,
   "id": "6e53b8cf",
   "metadata": {},
   "outputs": [
    {
     "data": {
      "text/plain": [
       "'2022'"
      ]
     },
     "execution_count": 21,
     "metadata": {},
     "output_type": "execute_result"
    }
   ],
   "source": [
    "re.findall('[0-9]+',movie.find('span',{'class':\"lister-item-year text-muted unbold\"}).text)[0]"
   ]
  },
  {
   "cell_type": "markdown",
   "id": "6e587470",
   "metadata": {},
   "source": [
    "Duration in mins"
   ]
  },
  {
   "cell_type": "code",
   "execution_count": 22,
   "id": "58d72b2d",
   "metadata": {},
   "outputs": [
    {
     "data": {
      "text/plain": [
       "'99'"
      ]
     },
     "execution_count": 22,
     "metadata": {},
     "output_type": "execute_result"
    }
   ],
   "source": [
    "movie.find('span',{ 'class':\"runtime\"}).text[:-4]"
   ]
  },
  {
   "cell_type": "markdown",
   "id": "9f203602",
   "metadata": {},
   "source": [
    "Genres tagged"
   ]
  },
  {
   "cell_type": "code",
   "execution_count": 23,
   "id": "14d39f41",
   "metadata": {},
   "outputs": [
    {
     "data": {
      "text/plain": [
       "'Action, Drama, Horror'"
      ]
     },
     "execution_count": 23,
     "metadata": {},
     "output_type": "execute_result"
    }
   ],
   "source": [
    "movie.find('span',{ 'class':\"genre\"}).text.strip()"
   ]
  },
  {
   "cell_type": "markdown",
   "id": "bd7c52a7",
   "metadata": {},
   "source": [
    "IMDB Rating"
   ]
  },
  {
   "cell_type": "code",
   "execution_count": 24,
   "id": "1c783f23",
   "metadata": {},
   "outputs": [
    {
     "data": {
      "text/plain": [
       "'7.3'"
      ]
     },
     "execution_count": 24,
     "metadata": {},
     "output_type": "execute_result"
    }
   ],
   "source": [
    "movie.find('strong').text"
   ]
  },
  {
   "cell_type": "markdown",
   "id": "e0e2db02",
   "metadata": {},
   "source": [
    "Votes"
   ]
  },
  {
   "cell_type": "code",
   "execution_count": 25,
   "id": "493bf788",
   "metadata": {},
   "outputs": [
    {
     "data": {
      "text/plain": [
       "'53123'"
      ]
     },
     "execution_count": 25,
     "metadata": {},
     "output_type": "execute_result"
    }
   ],
   "source": [
    "movie.find('meta',{'itemprop':\"ratingCount\"}).attrs['content']"
   ]
  },
  {
   "cell_type": "code",
   "execution_count": 26,
   "id": "98a23e8a",
   "metadata": {},
   "outputs": [
    {
     "data": {
      "text/plain": [
       "'53,123'"
      ]
     },
     "execution_count": 26,
     "metadata": {},
     "output_type": "execute_result"
    }
   ],
   "source": [
    "movie.find('span',{'name':'nv'}).text"
   ]
  },
  {
   "cell_type": "markdown",
   "id": "06859be9",
   "metadata": {},
   "source": [
    "Summary"
   ]
  },
  {
   "cell_type": "code",
   "execution_count": 27,
   "id": "921a7405",
   "metadata": {},
   "outputs": [
    {
     "data": {
      "text/plain": [
       "'The origin story of the Predator in the world of the Comanche Nation 300 years ago. Naru, a skilled female warrior, fights to protect her tribe against one of the first highly-evolved Predators to land on Earth.'"
      ]
     },
     "execution_count": 27,
     "metadata": {},
     "output_type": "execute_result"
    }
   ],
   "source": [
    "movie.find_all('p')[1].text.strip()"
   ]
  },
  {
   "cell_type": "markdown",
   "id": "afcd70fb",
   "metadata": {},
   "source": [
    "Directors and Stars"
   ]
  },
  {
   "cell_type": "code",
   "execution_count": 28,
   "id": "d81c2d7b",
   "metadata": {},
   "outputs": [],
   "source": [
    "director, star = movie.find_all('p')[2].text.strip().split('|')"
   ]
  },
  {
   "cell_type": "markdown",
   "id": "1a2ebadd",
   "metadata": {},
   "source": [
    "Directors"
   ]
  },
  {
   "cell_type": "code",
   "execution_count": 29,
   "id": "803089df",
   "metadata": {},
   "outputs": [
    {
     "data": {
      "text/plain": [
       "'Dan Trachtenberg'"
      ]
     },
     "execution_count": 29,
     "metadata": {},
     "output_type": "execute_result"
    }
   ],
   "source": [
    "', '.join(list(map(str.strip,director.split(':')[1].strip().split(','))))"
   ]
  },
  {
   "cell_type": "markdown",
   "id": "dded5287",
   "metadata": {},
   "source": [
    "Stars"
   ]
  },
  {
   "cell_type": "code",
   "execution_count": 30,
   "id": "c9db534b",
   "metadata": {},
   "outputs": [
    {
     "data": {
      "text/plain": [
       "'Amber Midthunder, Dakota Beavers, Dane DiLiegro, Stormee Kipp'"
      ]
     },
     "execution_count": 30,
     "metadata": {},
     "output_type": "execute_result"
    }
   ],
   "source": [
    "', '.join(list(map(str.strip,star.split(':')[1].strip().split(','))))"
   ]
  },
  {
   "cell_type": "markdown",
   "id": "bbea4e76",
   "metadata": {},
   "source": [
    "### Define a function to obtain the data for all popular movies in a genre"
   ]
  },
  {
   "cell_type": "code",
   "execution_count": 31,
   "id": "333b119c",
   "metadata": {},
   "outputs": [],
   "source": [
    "def get_movies_data(genre, genre_url):\n",
    "    '''\n",
    "    Get movies data: Movie Title, Release year, Adult rating, Duration, Genres tagged, IMDB rating, Summary, Directors, Stars, Votes\n",
    "    \n",
    "    Params:\n",
    "        genre: genre to which the movies belong\n",
    "        genre_url: URL to genre's top 50 popular movies \n",
    "    \n",
    "    Returns:\n",
    "    Dataframe containing the movies data \n",
    "    '''\n",
    "    response = requests.get(genre_url)\n",
    "    if response.status_code != 200:\n",
    "        print('No response')\n",
    "        return \n",
    "    \n",
    "    data = BeautifulSoup(response.text, 'html.parser')\n",
    "    \n",
    "    movies_tags = data.find_all('div', {'class': movie_class})\n",
    "    \n",
    "    titles = []\n",
    "    release_year = []\n",
    "    adult_rating = []\n",
    "    duration = []\n",
    "    genres_tagged = []\n",
    "    imdb_rating = []\n",
    "    summary = []\n",
    "    directors = []\n",
    "    stars = []\n",
    "    \n",
    "    for movie in movies_tags:\n",
    "        \n",
    "        titles.append(movie.find('a').text)\n",
    "        try:\n",
    "            release_year.append(re.findall('[0-9]+',movie.find('span',{'class':\"lister-item-year text-muted unbold\"}).text)[0])\n",
    "        except: release_year.append(np.nan)\n",
    "        try:\n",
    "            adult_rating.append(movie.find('span',{'class':\"certificate\"}).text)\n",
    "        except: adult_rating.append(np.nan)\n",
    "        try:\n",
    "            duration.append(movie.find('span',{ 'class':\"runtime\"}).text[:-4])\n",
    "        except: duration.append(np.nan)\n",
    "        try:\n",
    "            genres_tagged.append(movie.find('span',{ 'class':\"genre\"}).text.strip())\n",
    "        except: genres_tagged.append(np.nan)\n",
    "        try:\n",
    "            imdb_rating.append(movie.find('strong').text)\n",
    "        except: imdb_rating.append(np.nan)\n",
    "        try:\n",
    "            summary.append(movie.find_all('p')[1].text.strip())\n",
    "        except: summary.append(np.nan)\n",
    "        try:    \n",
    "            director, star = movie.find_all('p')[2].text.strip().split('|')\n",
    "        except: \n",
    "            film_star = movie.find_all('p')[2].text.strip()\n",
    "            if film_star.split(':')[0][:4] == 'Star':\n",
    "                star = film_star\n",
    "            else: director = film_star\n",
    "        try:\n",
    "            directors.append(', '.join(list(map(str.strip,director.split(':')[1].strip().split(',')))))\n",
    "        except: directors.append(np.nan)\n",
    "        try:\n",
    "            stars.append(', '.join(list(map(str.strip,star.split(':')[1].strip().split(',')))))\n",
    "        except: stars.append(np.nan)\n",
    "            \n",
    "    movies_data = dict({'Genre': genre, 'Title': titles, 'Release Year': release_year, 'Adult Rating': adult_rating,\n",
    "                       'Duration in mins': duration, 'Genres Tagged': genres_tagged, 'IMDB Rating': imdb_rating,\n",
    "                       'Summary': summary, 'Directors': directors, 'Stars': stars})\n",
    "    return pd.DataFrame(movies_data)"
   ]
  },
  {
   "cell_type": "code",
   "execution_count": 32,
   "id": "c678318f",
   "metadata": {},
   "outputs": [],
   "source": [
    "action_df = get_movies_data('Action',genre_url)"
   ]
  },
  {
   "cell_type": "code",
   "execution_count": 33,
   "id": "12744f62",
   "metadata": {},
   "outputs": [
    {
     "data": {
      "text/html": [
       "<div>\n",
       "<style scoped>\n",
       "    .dataframe tbody tr th:only-of-type {\n",
       "        vertical-align: middle;\n",
       "    }\n",
       "\n",
       "    .dataframe tbody tr th {\n",
       "        vertical-align: top;\n",
       "    }\n",
       "\n",
       "    .dataframe thead th {\n",
       "        text-align: right;\n",
       "    }\n",
       "</style>\n",
       "<table border=\"1\" class=\"dataframe\">\n",
       "  <thead>\n",
       "    <tr style=\"text-align: right;\">\n",
       "      <th></th>\n",
       "      <th>Genre</th>\n",
       "      <th>Title</th>\n",
       "      <th>Release Year</th>\n",
       "      <th>Adult Rating</th>\n",
       "      <th>Duration in mins</th>\n",
       "      <th>Genres Tagged</th>\n",
       "      <th>IMDB Rating</th>\n",
       "      <th>Summary</th>\n",
       "      <th>Directors</th>\n",
       "      <th>Stars</th>\n",
       "    </tr>\n",
       "  </thead>\n",
       "  <tbody>\n",
       "    <tr>\n",
       "      <th>0</th>\n",
       "      <td>Action</td>\n",
       "      <td>Prey</td>\n",
       "      <td>2022</td>\n",
       "      <td>R</td>\n",
       "      <td>99</td>\n",
       "      <td>Action, Drama, Horror</td>\n",
       "      <td>7.3</td>\n",
       "      <td>The origin story of the Predator in the world ...</td>\n",
       "      <td>Dan Trachtenberg</td>\n",
       "      <td>Amber Midthunder, Dakota Beavers, Dane DiLiegr...</td>\n",
       "    </tr>\n",
       "    <tr>\n",
       "      <th>1</th>\n",
       "      <td>Action</td>\n",
       "      <td>The Gray Man</td>\n",
       "      <td>2022</td>\n",
       "      <td>UA 16+</td>\n",
       "      <td>122</td>\n",
       "      <td>Action, Thriller</td>\n",
       "      <td>6.5</td>\n",
       "      <td>When the CIA's most skilled operative-whose tr...</td>\n",
       "      <td>Anthony Russo, Joe Russo</td>\n",
       "      <td>Ryan Gosling, Chris Evans, Ana de Armas, Billy...</td>\n",
       "    </tr>\n",
       "    <tr>\n",
       "      <th>2</th>\n",
       "      <td>Action</td>\n",
       "      <td>Bullet Train</td>\n",
       "      <td>2022</td>\n",
       "      <td>A</td>\n",
       "      <td>126</td>\n",
       "      <td>Action, Comedy, Thriller</td>\n",
       "      <td>7.5</td>\n",
       "      <td>Five assassins aboard a fast moving bullet tra...</td>\n",
       "      <td>David Leitch</td>\n",
       "      <td>Brad Pitt, Joey King, Aaron Taylor-Johnson, Br...</td>\n",
       "    </tr>\n",
       "    <tr>\n",
       "      <th>3</th>\n",
       "      <td>Action</td>\n",
       "      <td>Batgirl</td>\n",
       "      <td>NaN</td>\n",
       "      <td>NaN</td>\n",
       "      <td>NaN</td>\n",
       "      <td>Action, Adventure, Crime</td>\n",
       "      <td>NaN</td>\n",
       "      <td>Based upon the popular DC character, Barbara G...</td>\n",
       "      <td>Adil El Arbi, Bilall Fallah</td>\n",
       "      <td>Leslie Grace, J.K. Simmons, Michael Keaton, Br...</td>\n",
       "    </tr>\n",
       "    <tr>\n",
       "      <th>4</th>\n",
       "      <td>Action</td>\n",
       "      <td>Thor: Love and Thunder</td>\n",
       "      <td>2022</td>\n",
       "      <td>UA</td>\n",
       "      <td>118</td>\n",
       "      <td>Action, Adventure, Comedy</td>\n",
       "      <td>6.7</td>\n",
       "      <td>Thor enlists the help of Valkyrie, Korg and ex...</td>\n",
       "      <td>Taika Waititi</td>\n",
       "      <td>Chris Hemsworth, Natalie Portman, Christian Ba...</td>\n",
       "    </tr>\n",
       "  </tbody>\n",
       "</table>\n",
       "</div>"
      ],
      "text/plain": [
       "    Genre                   Title Release Year Adult Rating Duration in mins  \\\n",
       "0  Action                    Prey         2022            R               99   \n",
       "1  Action            The Gray Man         2022       UA 16+              122   \n",
       "2  Action            Bullet Train         2022            A              126   \n",
       "3  Action                 Batgirl          NaN          NaN              NaN   \n",
       "4  Action  Thor: Love and Thunder         2022           UA              118   \n",
       "\n",
       "               Genres Tagged IMDB Rating  \\\n",
       "0      Action, Drama, Horror         7.3   \n",
       "1           Action, Thriller         6.5   \n",
       "2   Action, Comedy, Thriller         7.5   \n",
       "3   Action, Adventure, Crime         NaN   \n",
       "4  Action, Adventure, Comedy         6.7   \n",
       "\n",
       "                                             Summary  \\\n",
       "0  The origin story of the Predator in the world ...   \n",
       "1  When the CIA's most skilled operative-whose tr...   \n",
       "2  Five assassins aboard a fast moving bullet tra...   \n",
       "3  Based upon the popular DC character, Barbara G...   \n",
       "4  Thor enlists the help of Valkyrie, Korg and ex...   \n",
       "\n",
       "                     Directors  \\\n",
       "0             Dan Trachtenberg   \n",
       "1     Anthony Russo, Joe Russo   \n",
       "2                 David Leitch   \n",
       "3  Adil El Arbi, Bilall Fallah   \n",
       "4                Taika Waititi   \n",
       "\n",
       "                                               Stars  \n",
       "0  Amber Midthunder, Dakota Beavers, Dane DiLiegr...  \n",
       "1  Ryan Gosling, Chris Evans, Ana de Armas, Billy...  \n",
       "2  Brad Pitt, Joey King, Aaron Taylor-Johnson, Br...  \n",
       "3  Leslie Grace, J.K. Simmons, Michael Keaton, Br...  \n",
       "4  Chris Hemsworth, Natalie Portman, Christian Ba...  "
      ]
     },
     "execution_count": 33,
     "metadata": {},
     "output_type": "execute_result"
    }
   ],
   "source": [
    "action_df.head()"
   ]
  },
  {
   "cell_type": "markdown",
   "id": "2a5c9b19",
   "metadata": {},
   "source": [
    "### Get movies data for all genres"
   ]
  },
  {
   "cell_type": "markdown",
   "id": "96889433",
   "metadata": {},
   "source": [
    "Use the function get_movies_data to obtain the data for all the listed genres"
   ]
  },
  {
   "cell_type": "code",
   "execution_count": 34,
   "id": "6572f460",
   "metadata": {},
   "outputs": [],
   "source": [
    "genres = genre_df['Genre']\n",
    "genre_urls = genre_df['URL']"
   ]
  },
  {
   "cell_type": "markdown",
   "id": "16c3f079",
   "metadata": {},
   "source": [
    "Loop over genres to get data for each genre and concatenate the obtained dataframe to the main dataframe"
   ]
  },
  {
   "cell_type": "code",
   "execution_count": 35,
   "id": "7316d5ac",
   "metadata": {},
   "outputs": [
    {
     "name": "stdout",
     "output_type": "stream",
     "text": [
      "Getting top 50 popular Action movies\n",
      "Getting top 50 popular Adventure movies\n",
      "Getting top 50 popular Animation movies\n",
      "Getting top 50 popular Biography movies\n",
      "Getting top 50 popular Comedy movies\n",
      "Getting top 50 popular Crime movies\n",
      "Getting top 50 popular Documentary movies\n",
      "Getting top 50 popular Drama movies\n",
      "Getting top 50 popular Family movies\n",
      "Getting top 50 popular Fantasy movies\n",
      "Getting top 50 popular Film Noir movies\n",
      "Getting top 50 popular History movies\n",
      "Getting top 50 popular Horror movies\n",
      "Getting top 50 popular Music movies\n",
      "Getting top 50 popular Musical movies\n",
      "Getting top 50 popular Mystery movies\n",
      "Getting top 50 popular Romance movies\n",
      "Getting top 50 popular Sci-Fi movies\n",
      "Getting top 50 popular Short Film movies\n",
      "Getting top 50 popular Sport movies\n",
      "Getting top 50 popular Superhero movies\n",
      "Getting top 50 popular Thriller movies\n",
      "Getting top 50 popular War movies\n",
      "Getting top 50 popular Western movies\n"
     ]
    }
   ],
   "source": [
    "movies_df = pd.DataFrame()\n",
    "\n",
    "for i in range(len(genres)):\n",
    "    \n",
    "    print('Getting top 50 popular',genres[i],'movies')\n",
    "    movies_df = pd.concat([movies_df,get_movies_data(genres[i],genre_urls[i])],ignore_index=True)"
   ]
  },
  {
   "cell_type": "code",
   "execution_count": 36,
   "id": "ceceb5ad",
   "metadata": {},
   "outputs": [
    {
     "data": {
      "text/html": [
       "<div>\n",
       "<style scoped>\n",
       "    .dataframe tbody tr th:only-of-type {\n",
       "        vertical-align: middle;\n",
       "    }\n",
       "\n",
       "    .dataframe tbody tr th {\n",
       "        vertical-align: top;\n",
       "    }\n",
       "\n",
       "    .dataframe thead th {\n",
       "        text-align: right;\n",
       "    }\n",
       "</style>\n",
       "<table border=\"1\" class=\"dataframe\">\n",
       "  <thead>\n",
       "    <tr style=\"text-align: right;\">\n",
       "      <th></th>\n",
       "      <th>Genre</th>\n",
       "      <th>Title</th>\n",
       "      <th>Release Year</th>\n",
       "      <th>Adult Rating</th>\n",
       "      <th>Duration in mins</th>\n",
       "      <th>Genres Tagged</th>\n",
       "      <th>IMDB Rating</th>\n",
       "      <th>Summary</th>\n",
       "      <th>Directors</th>\n",
       "      <th>Stars</th>\n",
       "    </tr>\n",
       "  </thead>\n",
       "  <tbody>\n",
       "    <tr>\n",
       "      <th>0</th>\n",
       "      <td>Action</td>\n",
       "      <td>Prey</td>\n",
       "      <td>2022</td>\n",
       "      <td>R</td>\n",
       "      <td>99</td>\n",
       "      <td>Action, Drama, Horror</td>\n",
       "      <td>7.3</td>\n",
       "      <td>The origin story of the Predator in the world ...</td>\n",
       "      <td>Dan Trachtenberg</td>\n",
       "      <td>Amber Midthunder, Dakota Beavers, Dane DiLiegr...</td>\n",
       "    </tr>\n",
       "    <tr>\n",
       "      <th>1</th>\n",
       "      <td>Action</td>\n",
       "      <td>The Gray Man</td>\n",
       "      <td>2022</td>\n",
       "      <td>UA 16+</td>\n",
       "      <td>122</td>\n",
       "      <td>Action, Thriller</td>\n",
       "      <td>6.5</td>\n",
       "      <td>When the CIA's most skilled operative-whose tr...</td>\n",
       "      <td>Anthony Russo, Joe Russo</td>\n",
       "      <td>Ryan Gosling, Chris Evans, Ana de Armas, Billy...</td>\n",
       "    </tr>\n",
       "    <tr>\n",
       "      <th>2</th>\n",
       "      <td>Action</td>\n",
       "      <td>Bullet Train</td>\n",
       "      <td>2022</td>\n",
       "      <td>A</td>\n",
       "      <td>126</td>\n",
       "      <td>Action, Comedy, Thriller</td>\n",
       "      <td>7.5</td>\n",
       "      <td>Five assassins aboard a fast moving bullet tra...</td>\n",
       "      <td>David Leitch</td>\n",
       "      <td>Brad Pitt, Joey King, Aaron Taylor-Johnson, Br...</td>\n",
       "    </tr>\n",
       "    <tr>\n",
       "      <th>3</th>\n",
       "      <td>Action</td>\n",
       "      <td>Batgirl</td>\n",
       "      <td>NaN</td>\n",
       "      <td>NaN</td>\n",
       "      <td>NaN</td>\n",
       "      <td>Action, Adventure, Crime</td>\n",
       "      <td>NaN</td>\n",
       "      <td>Based upon the popular DC character, Barbara G...</td>\n",
       "      <td>Adil El Arbi, Bilall Fallah</td>\n",
       "      <td>Leslie Grace, J.K. Simmons, Michael Keaton, Br...</td>\n",
       "    </tr>\n",
       "    <tr>\n",
       "      <th>4</th>\n",
       "      <td>Action</td>\n",
       "      <td>Thor: Love and Thunder</td>\n",
       "      <td>2022</td>\n",
       "      <td>UA</td>\n",
       "      <td>118</td>\n",
       "      <td>Action, Adventure, Comedy</td>\n",
       "      <td>6.7</td>\n",
       "      <td>Thor enlists the help of Valkyrie, Korg and ex...</td>\n",
       "      <td>Taika Waititi</td>\n",
       "      <td>Chris Hemsworth, Natalie Portman, Christian Ba...</td>\n",
       "    </tr>\n",
       "    <tr>\n",
       "      <th>...</th>\n",
       "      <td>...</td>\n",
       "      <td>...</td>\n",
       "      <td>...</td>\n",
       "      <td>...</td>\n",
       "      <td>...</td>\n",
       "      <td>...</td>\n",
       "      <td>...</td>\n",
       "      <td>...</td>\n",
       "      <td>...</td>\n",
       "      <td>...</td>\n",
       "    </tr>\n",
       "    <tr>\n",
       "      <th>1195</th>\n",
       "      <td>Western</td>\n",
       "      <td>Wild Wild West</td>\n",
       "      <td>1999</td>\n",
       "      <td>A</td>\n",
       "      <td>106</td>\n",
       "      <td>Action, Comedy, Sci-Fi</td>\n",
       "      <td>4.9</td>\n",
       "      <td>The two best special agents in the Wild West m...</td>\n",
       "      <td>Barry Sonnenfeld</td>\n",
       "      <td>Will Smith, Kevin Kline, Kenneth Branagh, Salm...</td>\n",
       "    </tr>\n",
       "    <tr>\n",
       "      <th>1196</th>\n",
       "      <td>Western</td>\n",
       "      <td>Young Guns II</td>\n",
       "      <td>1990</td>\n",
       "      <td>A</td>\n",
       "      <td>104</td>\n",
       "      <td>Action, Western</td>\n",
       "      <td>6.5</td>\n",
       "      <td>In 1881, cattle baron John Chisum pays a bount...</td>\n",
       "      <td>Geoff Murphy</td>\n",
       "      <td>Emilio Estevez, Kiefer Sutherland, Lou Diamond...</td>\n",
       "    </tr>\n",
       "    <tr>\n",
       "      <th>1197</th>\n",
       "      <td>Western</td>\n",
       "      <td>The Devil's Rejects</td>\n",
       "      <td>2005</td>\n",
       "      <td>A</td>\n",
       "      <td>107</td>\n",
       "      <td>Crime, Horror, Western</td>\n",
       "      <td>6.7</td>\n",
       "      <td>The murderous, backwoods Firefly family take t...</td>\n",
       "      <td>Rob Zombie</td>\n",
       "      <td>Sid Haig, Sheri Moon Zombie, Bill Moseley, Wil...</td>\n",
       "    </tr>\n",
       "    <tr>\n",
       "      <th>1198</th>\n",
       "      <td>Western</td>\n",
       "      <td>Three Amigos!</td>\n",
       "      <td>1986</td>\n",
       "      <td>U</td>\n",
       "      <td>104</td>\n",
       "      <td>Comedy, Western</td>\n",
       "      <td>6.5</td>\n",
       "      <td>Three actors accept an invitation to a Mexican...</td>\n",
       "      <td>John Landis</td>\n",
       "      <td>Steve Martin, Chevy Chase, Martin Short, Alfon...</td>\n",
       "    </tr>\n",
       "    <tr>\n",
       "      <th>1199</th>\n",
       "      <td>Western</td>\n",
       "      <td>Hannie Caulder</td>\n",
       "      <td>1971</td>\n",
       "      <td>NaN</td>\n",
       "      <td>85</td>\n",
       "      <td>Crime, Drama, Western</td>\n",
       "      <td>6.3</td>\n",
       "      <td>After she is raped and her husband murdered, a...</td>\n",
       "      <td>Burt Kennedy</td>\n",
       "      <td>Raquel Welch, Robert Culp, Ernest Borgnine, Ja...</td>\n",
       "    </tr>\n",
       "  </tbody>\n",
       "</table>\n",
       "<p>1200 rows × 10 columns</p>\n",
       "</div>"
      ],
      "text/plain": [
       "        Genre                   Title Release Year Adult Rating  \\\n",
       "0      Action                    Prey         2022            R   \n",
       "1      Action            The Gray Man         2022       UA 16+   \n",
       "2      Action            Bullet Train         2022            A   \n",
       "3      Action                 Batgirl          NaN          NaN   \n",
       "4      Action  Thor: Love and Thunder         2022           UA   \n",
       "...       ...                     ...          ...          ...   \n",
       "1195  Western          Wild Wild West         1999            A   \n",
       "1196  Western           Young Guns II         1990            A   \n",
       "1197  Western     The Devil's Rejects         2005            A   \n",
       "1198  Western           Three Amigos!         1986            U   \n",
       "1199  Western          Hannie Caulder         1971          NaN   \n",
       "\n",
       "     Duration in mins              Genres Tagged IMDB Rating  \\\n",
       "0                  99      Action, Drama, Horror         7.3   \n",
       "1                 122           Action, Thriller         6.5   \n",
       "2                 126   Action, Comedy, Thriller         7.5   \n",
       "3                 NaN   Action, Adventure, Crime         NaN   \n",
       "4                 118  Action, Adventure, Comedy         6.7   \n",
       "...               ...                        ...         ...   \n",
       "1195              106     Action, Comedy, Sci-Fi         4.9   \n",
       "1196              104            Action, Western         6.5   \n",
       "1197              107     Crime, Horror, Western         6.7   \n",
       "1198              104            Comedy, Western         6.5   \n",
       "1199               85      Crime, Drama, Western         6.3   \n",
       "\n",
       "                                                Summary  \\\n",
       "0     The origin story of the Predator in the world ...   \n",
       "1     When the CIA's most skilled operative-whose tr...   \n",
       "2     Five assassins aboard a fast moving bullet tra...   \n",
       "3     Based upon the popular DC character, Barbara G...   \n",
       "4     Thor enlists the help of Valkyrie, Korg and ex...   \n",
       "...                                                 ...   \n",
       "1195  The two best special agents in the Wild West m...   \n",
       "1196  In 1881, cattle baron John Chisum pays a bount...   \n",
       "1197  The murderous, backwoods Firefly family take t...   \n",
       "1198  Three actors accept an invitation to a Mexican...   \n",
       "1199  After she is raped and her husband murdered, a...   \n",
       "\n",
       "                        Directors  \\\n",
       "0                Dan Trachtenberg   \n",
       "1        Anthony Russo, Joe Russo   \n",
       "2                    David Leitch   \n",
       "3     Adil El Arbi, Bilall Fallah   \n",
       "4                   Taika Waititi   \n",
       "...                           ...   \n",
       "1195             Barry Sonnenfeld   \n",
       "1196                 Geoff Murphy   \n",
       "1197                   Rob Zombie   \n",
       "1198                  John Landis   \n",
       "1199                 Burt Kennedy   \n",
       "\n",
       "                                                  Stars  \n",
       "0     Amber Midthunder, Dakota Beavers, Dane DiLiegr...  \n",
       "1     Ryan Gosling, Chris Evans, Ana de Armas, Billy...  \n",
       "2     Brad Pitt, Joey King, Aaron Taylor-Johnson, Br...  \n",
       "3     Leslie Grace, J.K. Simmons, Michael Keaton, Br...  \n",
       "4     Chris Hemsworth, Natalie Portman, Christian Ba...  \n",
       "...                                                 ...  \n",
       "1195  Will Smith, Kevin Kline, Kenneth Branagh, Salm...  \n",
       "1196  Emilio Estevez, Kiefer Sutherland, Lou Diamond...  \n",
       "1197  Sid Haig, Sheri Moon Zombie, Bill Moseley, Wil...  \n",
       "1198  Steve Martin, Chevy Chase, Martin Short, Alfon...  \n",
       "1199  Raquel Welch, Robert Culp, Ernest Borgnine, Ja...  \n",
       "\n",
       "[1200 rows x 10 columns]"
      ]
     },
     "execution_count": 36,
     "metadata": {},
     "output_type": "execute_result"
    }
   ],
   "source": [
    "movies_df"
   ]
  },
  {
   "cell_type": "markdown",
   "id": "c3079fd9",
   "metadata": {},
   "source": [
    "## Create a csv file"
   ]
  },
  {
   "cell_type": "markdown",
   "id": "ecee30f1",
   "metadata": {},
   "source": [
    "Create a csv file containing the top 50 popular movies in each genre"
   ]
  },
  {
   "cell_type": "code",
   "execution_count": 37,
   "id": "2a345b12",
   "metadata": {},
   "outputs": [],
   "source": [
    "movies_df.to_csv('Popular_IMDB_movies_by_genre.csv')"
   ]
  }
 ],
 "metadata": {
  "kernelspec": {
   "display_name": "Python 3 (ipykernel)",
   "language": "python",
   "name": "python3"
  },
  "language_info": {
   "codemirror_mode": {
    "name": "ipython",
    "version": 3
   },
   "file_extension": ".py",
   "mimetype": "text/x-python",
   "name": "python",
   "nbconvert_exporter": "python",
   "pygments_lexer": "ipython3",
   "version": "3.9.12"
  }
 },
 "nbformat": 4,
 "nbformat_minor": 5
}
